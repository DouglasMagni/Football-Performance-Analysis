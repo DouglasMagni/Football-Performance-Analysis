{
 "cells": [
  {
   "cell_type": "code",
   "execution_count": 8,
   "metadata": {},
   "outputs": [],
   "source": [
    "import json\n",
    "import pandas as pd\n",
    "from datetime import datetime\n",
    "\n",
    "\n"
   ]
  },
  {
   "cell_type": "code",
   "execution_count": 9,
   "metadata": {},
   "outputs": [],
   "source": [
    "# Load the JSON data\n",
    "with open('./Fit/All data/raw_com.google.step_count.delta_com.google.and.json', 'r') as file:\n",
    "    data = json.load(file)\n",
    "\n",
    "# Extract the data points\n",
    "data_points = data['Data Points']\n",
    "\n"
   ]
  },
  {
   "cell_type": "code",
   "execution_count": 10,
   "metadata": {},
   "outputs": [],
   "source": [
    "# Create a list to store the transformed data\n",
    "transformed_data = []\n",
    "\n",
    "# Process each data point\n",
    "for point in data_points:\n",
    "    steps = point['fitValue'][0]['value']['intVal']\n",
    "    start_time = int(point['startTimeNanos'])\n",
    "    end_time = int(point['endTimeNanos'])\n",
    "    \n",
    "    # Convert nanoseconds to datetime\n",
    "    start_datetime = datetime.fromtimestamp(start_time / 1e9)\n",
    "    end_datetime = datetime.fromtimestamp(end_time / 1e9)\n",
    "    \n",
    "    # Append the data to the list\n",
    "    transformed_data.append({\n",
    "        'steps': steps,\n",
    "        'start_time': start_datetime,\n",
    "        'end_time': end_datetime\n",
    "    })\n",
    "\n",
    "# Create a DataFrame from the list\n",
    "df = pd.DataFrame(transformed_data)\n"
   ]
  },
  {
   "cell_type": "code",
   "execution_count": 11,
   "metadata": {},
   "outputs": [
    {
     "name": "stdout",
     "output_type": "stream",
     "text": [
      "          date   steps\n",
      "0   2024-06-08    3615\n",
      "1   2024-06-09    2491\n",
      "2   2024-06-10   18051\n",
      "3   2024-06-11   13049\n",
      "4   2024-06-12   16118\n",
      "5   2024-06-13   13301\n",
      "6   2024-06-14   16142\n",
      "7   2024-06-15    1950\n",
      "8   2024-06-16    8883\n",
      "9   2024-06-17   18681\n",
      "10  2024-06-18    9249\n",
      "11  2024-06-19    9895\n",
      "12  2024-06-20   11682\n",
      "13  2024-06-21    2262\n",
      "14  2024-06-22    2939\n",
      "15  2024-06-23    9574\n",
      "16  2024-06-24   16989\n",
      "17  2024-06-25    9963\n",
      "18  2024-06-26    9079\n",
      "19  2024-06-27   16190\n",
      "20  2024-06-28   13895\n",
      "21  2024-06-29    2641\n",
      "22  2024-06-30    9679\n",
      "23  2024-07-01    8469\n",
      "24  2024-07-02    8051\n",
      "25  2024-07-03    8659\n",
      "26  2024-07-04   12646\n",
      "27  2024-07-05    7947\n",
      "28  2024-07-06    4552\n",
      "29  2024-07-07    2105\n",
      "30  2024-07-08    9542\n",
      "31  2024-07-09   15188\n",
      "32  2024-07-10    8000\n",
      "33  2024-07-11  196007\n"
     ]
    }
   ],
   "source": [
    "# Aggregate by day\n",
    "df['date'] = df['start_time'].dt.date\n",
    "daily_steps = df.groupby('date')['steps'].sum().reset_index()\n",
    "\n",
    "print(daily_steps)\n"
   ]
  },
  {
   "cell_type": "code",
   "execution_count": 12,
   "metadata": {},
   "outputs": [
    {
     "name": "stdout",
     "output_type": "stream",
     "text": [
      "                  Date Fitness Activity                Start Time  \\\n",
      "0  2024-05-01T12_17_18     calisthenics  2024-05-01T00:17:18.408Z   \n",
      "1  2024-05-09T12_19_08     calisthenics  2024-05-09T00:19:08.139Z   \n",
      "2  2024-06-27T15_10_16          walking  2024-06-27T03:10:16.123Z   \n",
      "3  2024-05-29T07_45_50     calisthenics  2024-05-28T19:45:50.496Z   \n",
      "4  2024-02-24T12_29_21     calisthenics  2024-02-23T23:29:21.233Z   \n",
      "\n",
      "                   End Time   Duration  \n",
      "0  2024-05-01T00:27:53.242Z   634.834s  \n",
      "1  2024-05-09T00:36:23.880Z  1035.741s  \n",
      "2  2024-06-27T03:40:16.123Z      1800s  \n",
      "3  2024-05-28T19:46:13.262Z    22.766s  \n",
      "4  2024-02-23T23:46:47.822Z  1046.589s  \n"
     ]
    }
   ],
   "source": [
    "import os\n",
    "import pandas as pd\n",
    "from fit_data_extraction import extract_fit_data  # Import the function from your saved file\n",
    "\n",
    "# Function to integrate Fit data into existing DataFrame\n",
    "def integrate_fit_data(fit_dir):\n",
    "    data_points = []  # List to store data points\n",
    "\n",
    "    # Iterate through each file in the directory\n",
    "    for filename in os.listdir(fit_dir):\n",
    "        if filename.endswith('.json'):\n",
    "            file_path = os.path.join(fit_dir, filename)\n",
    "            data_point = extract_fit_data(file_path)\n",
    "\n",
    "            # Assuming you also want to capture the date from filename or another source\n",
    "            # Update this part based on your actual data extraction logic\n",
    "            date = filename.split('.')[0]  # Example: Extract date from filename\n",
    "\n",
    "            data_point['Date'] = date\n",
    "            data_points.append(data_point)\n",
    "\n",
    "    # Create DataFrame from list of dictionaries\n",
    "    fit_data = pd.DataFrame(data_points, columns=['Date', 'Fitness Activity', 'Start Time', 'End Time', 'Duration'])\n",
    "    return fit_data\n",
    "\n",
    "# Directory containing Fit JSON files\n",
    "fit_dir = './Fit/All sessions/'\n",
    "\n",
    "# Integrate Fit data into DataFrame\n",
    "fit_data = integrate_fit_data(fit_dir)\n",
    "\n",
    "# Display the extracted data\n",
    "print(fit_data.head())\n"
   ]
  }
 ],
 "metadata": {
  "kernelspec": {
   "display_name": "Python 3",
   "language": "python",
   "name": "python3"
  },
  "language_info": {
   "codemirror_mode": {
    "name": "ipython",
    "version": 3
   },
   "file_extension": ".py",
   "mimetype": "text/x-python",
   "name": "python",
   "nbconvert_exporter": "python",
   "pygments_lexer": "ipython3",
   "version": "3.10.12"
  }
 },
 "nbformat": 4,
 "nbformat_minor": 2
}
