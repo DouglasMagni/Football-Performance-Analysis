{
 "cells": [
  {
   "cell_type": "code",
   "execution_count": 33,
   "metadata": {},
   "outputs": [],
   "source": [
    "import json\n",
    "import pandas as pd\n",
    "from datetime import datetime\n",
    "\n",
    "\n"
   ]
  },
  {
   "cell_type": "code",
   "execution_count": 34,
   "metadata": {},
   "outputs": [],
   "source": [
    "# Load the JSON data\n",
    "with open('./Fit/All data/raw_com.google.step_count.delta_com.google.and.json', 'r') as file:\n",
    "    data = json.load(file)\n",
    "\n",
    "# Extract the data points\n",
    "data_points = data['Data Points']\n",
    "\n"
   ]
  },
  {
   "cell_type": "code",
   "execution_count": 35,
   "metadata": {},
   "outputs": [],
   "source": [
    "# Starting an empty list to store the transformed data\n",
    "transformed_data = []\n",
    "\n",
    "for point in data_points:\n",
    "    steps = point['fitValue'][0]['value']['intVal']\n",
    "    start_time = int(point['startTimeNanos'])\n",
    "    end_time = int(point['endTimeNanos'])\n",
    "    \n",
    "    # Converting nanoseconds to datetime\n",
    "    start_datetime = datetime.fromtimestamp(start_time / 1e9)\n",
    "    end_datetime = datetime.fromtimestamp(end_time / 1e9)\n",
    "    \n",
    "    transformed_data.append({\n",
    "        'steps': steps,\n",
    "        'start_time': start_datetime,\n",
    "        'end_time': end_datetime\n",
    "    })\n",
    "\n",
    "df = pd.DataFrame(transformed_data)\n"
   ]
  },
  {
   "cell_type": "code",
   "execution_count": 36,
   "metadata": {},
   "outputs": [
    {
     "name": "stdout",
     "output_type": "stream",
     "text": [
      "          date   steps\n",
      "0   2024-06-08    3615\n",
      "1   2024-06-09    2491\n",
      "2   2024-06-10   18051\n",
      "3   2024-06-11   13049\n",
      "4   2024-06-12   16118\n",
      "5   2024-06-13   13301\n",
      "6   2024-06-14   16142\n",
      "7   2024-06-15    1950\n",
      "8   2024-06-16    8883\n",
      "9   2024-06-17   18681\n",
      "10  2024-06-18    9249\n",
      "11  2024-06-19    9895\n",
      "12  2024-06-20   11682\n",
      "13  2024-06-21    2262\n",
      "14  2024-06-22    2939\n",
      "15  2024-06-23    9574\n",
      "16  2024-06-24   16989\n",
      "17  2024-06-25    9963\n",
      "18  2024-06-26    9079\n",
      "19  2024-06-27   16190\n",
      "20  2024-06-28   13895\n",
      "21  2024-06-29    2641\n",
      "22  2024-06-30    9679\n",
      "23  2024-07-01    8469\n",
      "24  2024-07-02    8051\n",
      "25  2024-07-03    8659\n",
      "26  2024-07-04   12646\n",
      "27  2024-07-05    7947\n",
      "28  2024-07-06    4552\n",
      "29  2024-07-07    2105\n",
      "30  2024-07-08    9542\n",
      "31  2024-07-09   15188\n",
      "32  2024-07-10    8000\n",
      "33  2024-07-11  196007\n"
     ]
    }
   ],
   "source": [
    "# Aggregating \n",
    "df['date'] = df['start_time'].dt.date\n",
    "daily_steps = df.groupby('date')['steps'].sum().reset_index()\n",
    "\n",
    "print(daily_steps)\n"
   ]
  },
  {
   "cell_type": "markdown",
   "metadata": {},
   "source": [
    "### I will separate this data into weeks before merging with the football performance data. This will help in making the analysis more structured and easier to manage."
   ]
  },
  {
   "cell_type": "code",
   "execution_count": 39,
   "metadata": {},
   "outputs": [
    {
     "name": "stdout",
     "output_type": "stream",
     "text": [
      "         date   steps  week  weekly_steps\n",
      "24 2024-07-02    8051     4         64040\n",
      "25 2024-07-03    8659     4         64040\n",
      "26 2024-07-04   12646     4         64040\n",
      "27 2024-07-05    7947     5        243341\n",
      "28 2024-07-06    4552     5        243341\n",
      "29 2024-07-07    2105     5        243341\n",
      "30 2024-07-08    9542     5        243341\n",
      "31 2024-07-09   15188     5        243341\n",
      "32 2024-07-10    8000     5        243341\n",
      "33 2024-07-11  196007     5        243341\n"
     ]
    }
   ],
   "source": [
    "daily_steps['date'] = pd.to_datetime(daily_steps['date'])\n",
    "\n",
    "# Subtract 4 days to shift the week start to Friday\n",
    "daily_steps['adjusted_date'] = daily_steps['date'] - pd.Timedelta(days=4)\n",
    "\n",
    "# Sort by adjusted_date to ensure weeks are calculated correctly\n",
    "daily_steps = daily_steps.sort_values('adjusted_date')\n",
    "\n",
    "# Add a 'week' column based on adjusted_date\n",
    "daily_steps['week'] = daily_steps['adjusted_date'].dt.isocalendar().week\n",
    "\n",
    "# Group by week and sum the steps\n",
    "weekly_steps_sum = daily_steps.groupby('week')['steps'].sum().reset_index()\n",
    "\n",
    "# Merge the weekly sums back into the original DataFrame\n",
    "df_steps = pd.merge(daily_steps, weekly_steps_sum, on='week', suffixes=('', '_weekly'))\n",
    "\n",
    "# Rename columns for clarity\n",
    "df_steps.rename(columns={'steps_weekly': 'weekly_steps'}, inplace=True)\n",
    "\n",
    "# Enumerate the week column starting from 1\n",
    "df_steps['week'] = df_steps['week'].rank(method='dense').astype(int)\n",
    "\n",
    "# Drop the adjusted_date column as it's no longer needed\n",
    "df_steps.drop(columns=['adjusted_date'], inplace=True)\n",
    "\n",
    "print(df_steps.tail(10))\n"
   ]
  },
  {
   "cell_type": "markdown",
   "metadata": {},
   "source": [
    "### I noticed some inconsistencies in the day 2024-07-11, I believe that amount of steps is wrong.\n",
    "### \"33  2024-07-11  196007\"\n",
    "### I will need to fix this and copy mannually from the app, as it's just one data\n"
   ]
  },
  {
   "cell_type": "code",
   "execution_count": 42,
   "metadata": {},
   "outputs": [
    {
     "name": "stdout",
     "output_type": "stream",
     "text": [
      "         date  steps  week  weekly_steps\n",
      "0  2024-06-08   3615     1         66625\n",
      "1  2024-06-09   2491     1         66625\n",
      "2  2024-06-10  18051     1         66625\n",
      "3  2024-06-11  13049     1         66625\n",
      "4  2024-06-12  16118     1         66625\n",
      "5  2024-06-13  13301     1         66625\n",
      "6  2024-06-14  16142     2         76482\n",
      "7  2024-06-15   1950     2         76482\n",
      "8  2024-06-16   8883     2         76482\n",
      "9  2024-06-17  18681     2         76482\n",
      "10 2024-06-18   9249     2         76482\n",
      "11 2024-06-19   9895     2         76482\n",
      "12 2024-06-20  11682     2         76482\n",
      "13 2024-06-21   2262     3         66996\n",
      "14 2024-06-22   2939     3         66996\n",
      "15 2024-06-23   9574     3         66996\n",
      "16 2024-06-24  16989     3         66996\n",
      "17 2024-06-25   9963     3         66996\n",
      "18 2024-06-26   9079     3         66996\n",
      "19 2024-06-27  16190     3         66996\n",
      "20 2024-06-28  13895     4         64040\n",
      "21 2024-06-29   2641     4         64040\n",
      "22 2024-06-30   9679     4         64040\n",
      "23 2024-07-01   8469     4         64040\n",
      "24 2024-07-02   8051     4         64040\n",
      "25 2024-07-03   8659     4         64040\n",
      "26 2024-07-04  12646     4         64040\n",
      "27 2024-07-05   7947     5         56696\n",
      "28 2024-07-06   4552     5         56696\n",
      "29 2024-07-07   2105     5         56696\n",
      "30 2024-07-08   9542     5         56696\n",
      "31 2024-07-09  15188     5         56696\n",
      "32 2024-07-10   8000     5         56696\n",
      "33 2024-07-11   9362     5         56696\n"
     ]
    }
   ],
   "source": [
    "# Updating the steps\n",
    "df_steps.loc[df_steps.index == 33, 'steps'] = 9362\n",
    "\n",
    "# Recalculate the weekly steps for week 5\n",
    "week_5_steps = df_steps[df_steps['week'] == 5]['steps'].sum()\n",
    "\n",
    "# Update the weekly_steps column for all entries in week 5\n",
    "df_steps.loc[df_steps['week'] == 5, 'weekly_steps'] = week_5_steps\n",
    "\n",
    "print(df_steps)\n"
   ]
  },
  {
   "cell_type": "markdown",
   "metadata": {},
   "source": [
    "# Merging the performance file into the dataframe"
   ]
  },
  {
   "cell_type": "code",
   "execution_count": 47,
   "metadata": {},
   "outputs": [
    {
     "name": "stdout",
     "output_type": "stream",
     "text": [
      "         date  steps  week  weekly_steps  Goal Scored  Goal Assisted  Team Win\n",
      "0  2024-06-08   3615     1         66625          NaN            NaN       NaN\n",
      "1  2024-06-09   2491     1         66625          NaN            NaN       NaN\n",
      "2  2024-06-10  18051     1         66625          NaN            NaN       NaN\n",
      "3  2024-06-11  13049     1         66625          NaN            NaN       NaN\n",
      "4  2024-06-12  16118     1         66625          NaN            NaN       NaN\n",
      "5  2024-06-13  13301     1         66625          4.0            1.0       4.0\n",
      "6  2024-06-14  16142     2         76482          NaN            NaN       NaN\n",
      "7  2024-06-15   1950     2         76482          NaN            NaN       NaN\n",
      "8  2024-06-16   8883     2         76482          NaN            NaN       NaN\n",
      "9  2024-06-17  18681     2         76482          NaN            NaN       NaN\n",
      "10 2024-06-18   9249     2         76482          NaN            NaN       NaN\n",
      "11 2024-06-19   9895     2         76482          NaN            NaN       NaN\n",
      "12 2024-06-20  11682     2         76482          5.0            1.0       7.0\n",
      "13 2024-06-21   2262     3         66996          NaN            NaN       NaN\n",
      "14 2024-06-22   2939     3         66996          NaN            NaN       NaN\n",
      "15 2024-06-23   9574     3         66996          NaN            NaN       NaN\n",
      "16 2024-06-24  16989     3         66996          NaN            NaN       NaN\n",
      "17 2024-06-25   9963     3         66996          NaN            NaN       NaN\n",
      "18 2024-06-26   9079     3         66996          NaN            NaN       NaN\n",
      "19 2024-06-27  16190     3         66996          3.0            4.0       5.0\n",
      "20 2024-06-28  13895     4         64040          NaN            NaN       NaN\n",
      "21 2024-06-29   2641     4         64040          NaN            NaN       NaN\n",
      "22 2024-06-30   9679     4         64040          NaN            NaN       NaN\n",
      "23 2024-07-01   8469     4         64040          NaN            NaN       NaN\n",
      "24 2024-07-02   8051     4         64040          NaN            NaN       NaN\n",
      "25 2024-07-03   8659     4         64040          NaN            NaN       NaN\n",
      "26 2024-07-04  12646     4         64040          3.0            3.0       5.0\n",
      "27 2024-07-05   7947     5         56696          NaN            NaN       NaN\n",
      "28 2024-07-06   4552     5         56696          NaN            NaN       NaN\n",
      "29 2024-07-07   2105     5         56696          NaN            NaN       NaN\n",
      "30 2024-07-08   9542     5         56696          NaN            NaN       NaN\n",
      "31 2024-07-09  15188     5         56696          NaN            NaN       NaN\n",
      "32 2024-07-10   8000     5         56696          NaN            NaN       NaN\n",
      "33 2024-07-11   9362     5         56696          1.0            1.0       3.0\n"
     ]
    }
   ],
   "source": [
    "\n",
    "# Loading the CSV file\n",
    "football_performance = pd.read_csv('Football performance.csv')\n",
    "\n",
    "# I need to raname the column to match the existing dataframe column\n",
    "football_performance.rename(columns={'Football Date': 'date'}, inplace=True)\n",
    "\n",
    "# Convert the 'date' column to datetime to ensure it matches the 'date' format in df_steps\n",
    "football_performance['date'] = pd.to_datetime(football_performance['date'])\n",
    "\n",
    "# Merging both column by the date column\n",
    "df = pd.merge(df_steps, football_performance, on='date', how='left')\n",
    "\n",
    "# Display the merged DataFrame\n",
    "print(df)\n"
   ]
  },
  {
   "cell_type": "markdown",
   "metadata": {},
   "source": [
    "### I will need to replace the NaN values with 0, in order to facilitate any further visualization.\n",
    "### I will also create a new column to be more clear to compare days that I played football to days that I didn't play."
   ]
  },
  {
   "cell_type": "code",
   "execution_count": 51,
   "metadata": {},
   "outputs": [
    {
     "name": "stdout",
     "output_type": "stream",
     "text": [
      "         date  steps  week  weekly_steps  Goal Scored  Goal Assisted  \\\n",
      "29 2024-07-07   2105     5         56696          0.0            0.0   \n",
      "30 2024-07-08   9542     5         56696          0.0            0.0   \n",
      "31 2024-07-09  15188     5         56696          0.0            0.0   \n",
      "32 2024-07-10   8000     5         56696          0.0            0.0   \n",
      "33 2024-07-11   9362     5         56696          1.0            1.0   \n",
      "\n",
      "    Team Win  football_day  \n",
      "29       0.0         False  \n",
      "30       0.0         False  \n",
      "31       0.0         False  \n",
      "32       0.0         False  \n",
      "33       3.0          True  \n"
     ]
    }
   ],
   "source": [
    "# Fill NaN values with zeros\n",
    "df.fillna(0, inplace=True)\n",
    "\n",
    "# Create a new column to indicate football days\n",
    "df['football_day'] = df['Goal Scored'] > 0\n",
    "\n",
    "print(df.tail())"
   ]
  }
 ],
 "metadata": {
  "kernelspec": {
   "display_name": "Python 3",
   "language": "python",
   "name": "python3"
  },
  "language_info": {
   "codemirror_mode": {
    "name": "ipython",
    "version": 3
   },
   "file_extension": ".py",
   "mimetype": "text/x-python",
   "name": "python",
   "nbconvert_exporter": "python",
   "pygments_lexer": "ipython3",
   "version": "3.10.12"
  }
 },
 "nbformat": 4,
 "nbformat_minor": 2
}
