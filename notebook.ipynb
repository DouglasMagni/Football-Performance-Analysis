{
 "cells": [
  {
   "cell_type": "code",
   "execution_count": 86,
   "metadata": {},
   "outputs": [],
   "source": [
    "import json\n",
    "import pandas as pd\n",
    "from datetime import datetime\n",
    "import matplotlib.pyplot as plt\n",
    "import seaborn as sns\n",
    "\n",
    "\n"
   ]
  },
  {
   "cell_type": "code",
   "execution_count": 87,
   "metadata": {},
   "outputs": [],
   "source": [
    "# Load the JSON data\n",
    "with open('./Fit/All data/raw_com.google.step_count.delta_com.google.and.json', 'r') as file:\n",
    "    data = json.load(file)\n",
    "\n",
    "# Extract the data points\n",
    "data_points = data['Data Points']\n",
    "\n"
   ]
  },
  {
   "cell_type": "code",
   "execution_count": 88,
   "metadata": {},
   "outputs": [],
   "source": [
    "# Starting an empty list to store the transformed data\n",
    "transformed_data = []\n",
    "\n",
    "for point in data_points:\n",
    "    steps = point['fitValue'][0]['value']['intVal']\n",
    "    start_time = int(point['startTimeNanos'])\n",
    "    end_time = int(point['endTimeNanos'])\n",
    "    \n",
    "    # Converting nanoseconds to datetime\n",
    "    start_datetime = datetime.fromtimestamp(start_time / 1e9)\n",
    "    end_datetime = datetime.fromtimestamp(end_time / 1e9)\n",
    "    \n",
    "    transformed_data.append({\n",
    "        'steps': steps,\n",
    "        'start_time': start_datetime,\n",
    "        'end_time': end_datetime\n",
    "    })\n",
    "\n",
    "df = pd.DataFrame(transformed_data)\n"
   ]
  },
  {
   "cell_type": "code",
   "execution_count": 89,
   "metadata": {},
   "outputs": [
    {
     "name": "stdout",
     "output_type": "stream",
     "text": [
      "          date   steps\n",
      "0   2024-06-08    3615\n",
      "1   2024-06-09    2491\n",
      "2   2024-06-10   18051\n",
      "3   2024-06-11   13049\n",
      "4   2024-06-12   16118\n",
      "5   2024-06-13   13301\n",
      "6   2024-06-14   16142\n",
      "7   2024-06-15    1950\n",
      "8   2024-06-16    8883\n",
      "9   2024-06-17   18681\n",
      "10  2024-06-18    9249\n",
      "11  2024-06-19    9895\n",
      "12  2024-06-20   11682\n",
      "13  2024-06-21    2262\n",
      "14  2024-06-22    2939\n",
      "15  2024-06-23    9574\n",
      "16  2024-06-24   16989\n",
      "17  2024-06-25    9963\n",
      "18  2024-06-26    9079\n",
      "19  2024-06-27   16190\n",
      "20  2024-06-28   13895\n",
      "21  2024-06-29    2641\n",
      "22  2024-06-30    9679\n",
      "23  2024-07-01    8469\n",
      "24  2024-07-02    8051\n",
      "25  2024-07-03    8659\n",
      "26  2024-07-04   12646\n",
      "27  2024-07-05    7947\n",
      "28  2024-07-06    4552\n",
      "29  2024-07-07    2105\n",
      "30  2024-07-08    9542\n",
      "31  2024-07-09   15188\n",
      "32  2024-07-10    8000\n",
      "33  2024-07-11  196007\n"
     ]
    }
   ],
   "source": [
    "# Aggregating \n",
    "df['date'] = df['start_time'].dt.date\n",
    "daily_steps = df.groupby('date')['steps'].sum().reset_index()\n",
    "\n",
    "print(daily_steps)\n"
   ]
  },
  {
   "cell_type": "markdown",
   "metadata": {},
   "source": [
    "### I will separate this data into weeks before merging with the football performance data. This will help in making the analysis more structured and easier to manage."
   ]
  },
  {
   "cell_type": "code",
   "execution_count": 90,
   "metadata": {},
   "outputs": [
    {
     "name": "stdout",
     "output_type": "stream",
     "text": [
      "         date   steps  week  weekly_steps\n",
      "24 2024-07-02    8051     4         64040\n",
      "25 2024-07-03    8659     4         64040\n",
      "26 2024-07-04   12646     4         64040\n",
      "27 2024-07-05    7947     5        243341\n",
      "28 2024-07-06    4552     5        243341\n",
      "29 2024-07-07    2105     5        243341\n",
      "30 2024-07-08    9542     5        243341\n",
      "31 2024-07-09   15188     5        243341\n",
      "32 2024-07-10    8000     5        243341\n",
      "33 2024-07-11  196007     5        243341\n"
     ]
    }
   ],
   "source": [
    "daily_steps['date'] = pd.to_datetime(daily_steps['date'])\n",
    "\n",
    "# Subtract 4 days to shift the week start to Friday\n",
    "daily_steps['adjusted_date'] = daily_steps['date'] - pd.Timedelta(days=4)\n",
    "\n",
    "# Sort by adjusted_date to ensure weeks are calculated correctly\n",
    "daily_steps = daily_steps.sort_values('adjusted_date')\n",
    "\n",
    "# Add a 'week' column based on adjusted_date\n",
    "daily_steps['week'] = daily_steps['adjusted_date'].dt.isocalendar().week\n",
    "\n",
    "# Group by week and sum the steps\n",
    "weekly_steps_sum = daily_steps.groupby('week')['steps'].sum().reset_index()\n",
    "\n",
    "# Merge the weekly sums back into the original DataFrame\n",
    "df_steps = pd.merge(daily_steps, weekly_steps_sum, on='week', suffixes=('', '_weekly'))\n",
    "\n",
    "# Rename columns for clarity\n",
    "df_steps.rename(columns={'steps_weekly': 'weekly_steps'}, inplace=True)\n",
    "\n",
    "# Enumerate the week column starting from 1\n",
    "df_steps['week'] = df_steps['week'].rank(method='dense').astype(int)\n",
    "\n",
    "# Drop the adjusted_date column as it's no longer needed\n",
    "df_steps.drop(columns=['adjusted_date'], inplace=True)\n",
    "\n",
    "print(df_steps.tail(10))\n"
   ]
  },
  {
   "cell_type": "markdown",
   "metadata": {},
   "source": [
    "### I noticed some inconsistencies in the day 2024-07-11, I believe that amount of steps is wrong.\n",
    "### \"33  2024-07-11  196007\"\n",
    "### I will need to fix this and copy mannually from the app, as it's just one data\n"
   ]
  },
  {
   "cell_type": "code",
   "execution_count": 91,
   "metadata": {},
   "outputs": [
    {
     "name": "stdout",
     "output_type": "stream",
     "text": [
      "         date  steps  week  weekly_steps\n",
      "0  2024-06-08   3615     1         66625\n",
      "1  2024-06-09   2491     1         66625\n",
      "2  2024-06-10  18051     1         66625\n",
      "3  2024-06-11  13049     1         66625\n",
      "4  2024-06-12  16118     1         66625\n",
      "5  2024-06-13  13301     1         66625\n",
      "6  2024-06-14  16142     2         76482\n",
      "7  2024-06-15   1950     2         76482\n",
      "8  2024-06-16   8883     2         76482\n",
      "9  2024-06-17  18681     2         76482\n",
      "10 2024-06-18   9249     2         76482\n",
      "11 2024-06-19   9895     2         76482\n",
      "12 2024-06-20  11682     2         76482\n",
      "13 2024-06-21   2262     3         66996\n",
      "14 2024-06-22   2939     3         66996\n",
      "15 2024-06-23   9574     3         66996\n",
      "16 2024-06-24  16989     3         66996\n",
      "17 2024-06-25   9963     3         66996\n",
      "18 2024-06-26   9079     3         66996\n",
      "19 2024-06-27  16190     3         66996\n",
      "20 2024-06-28  13895     4         64040\n",
      "21 2024-06-29   2641     4         64040\n",
      "22 2024-06-30   9679     4         64040\n",
      "23 2024-07-01   8469     4         64040\n",
      "24 2024-07-02   8051     4         64040\n",
      "25 2024-07-03   8659     4         64040\n",
      "26 2024-07-04  12646     4         64040\n",
      "27 2024-07-05   7947     5         56696\n",
      "28 2024-07-06   4552     5         56696\n",
      "29 2024-07-07   2105     5         56696\n",
      "30 2024-07-08   9542     5         56696\n",
      "31 2024-07-09  15188     5         56696\n",
      "32 2024-07-10   8000     5         56696\n",
      "33 2024-07-11   9362     5         56696\n"
     ]
    }
   ],
   "source": [
    "# Updating the steps\n",
    "df_steps.loc[df_steps.index == 33, 'steps'] = 9362\n",
    "\n",
    "# Recalculate the weekly steps for week 5\n",
    "week_5_steps = df_steps[df_steps['week'] == 5]['steps'].sum()\n",
    "\n",
    "# Update the weekly_steps column for all entries in week 5\n",
    "df_steps.loc[df_steps['week'] == 5, 'weekly_steps'] = week_5_steps\n",
    "\n",
    "print(df_steps)\n"
   ]
  },
  {
   "cell_type": "markdown",
   "metadata": {},
   "source": [
    "# Merging the performance file into the dataframe"
   ]
  },
  {
   "cell_type": "code",
   "execution_count": 92,
   "metadata": {},
   "outputs": [
    {
     "name": "stdout",
     "output_type": "stream",
     "text": [
      "         date  steps  week  weekly_steps  Goal Scored  Goal Assisted  Team Win\n",
      "0  2024-06-08   3615     1         66625          NaN            NaN       NaN\n",
      "1  2024-06-09   2491     1         66625          NaN            NaN       NaN\n",
      "2  2024-06-10  18051     1         66625          NaN            NaN       NaN\n",
      "3  2024-06-11  13049     1         66625          NaN            NaN       NaN\n",
      "4  2024-06-12  16118     1         66625          NaN            NaN       NaN\n",
      "5  2024-06-13  13301     1         66625          4.0            1.0       4.0\n",
      "6  2024-06-14  16142     2         76482          NaN            NaN       NaN\n",
      "7  2024-06-15   1950     2         76482          NaN            NaN       NaN\n",
      "8  2024-06-16   8883     2         76482          NaN            NaN       NaN\n",
      "9  2024-06-17  18681     2         76482          NaN            NaN       NaN\n",
      "10 2024-06-18   9249     2         76482          NaN            NaN       NaN\n",
      "11 2024-06-19   9895     2         76482          NaN            NaN       NaN\n",
      "12 2024-06-20  11682     2         76482          5.0            1.0       7.0\n",
      "13 2024-06-21   2262     3         66996          NaN            NaN       NaN\n",
      "14 2024-06-22   2939     3         66996          NaN            NaN       NaN\n",
      "15 2024-06-23   9574     3         66996          NaN            NaN       NaN\n",
      "16 2024-06-24  16989     3         66996          NaN            NaN       NaN\n",
      "17 2024-06-25   9963     3         66996          NaN            NaN       NaN\n",
      "18 2024-06-26   9079     3         66996          NaN            NaN       NaN\n",
      "19 2024-06-27  16190     3         66996          3.0            4.0       5.0\n",
      "20 2024-06-28  13895     4         64040          NaN            NaN       NaN\n",
      "21 2024-06-29   2641     4         64040          NaN            NaN       NaN\n",
      "22 2024-06-30   9679     4         64040          NaN            NaN       NaN\n",
      "23 2024-07-01   8469     4         64040          NaN            NaN       NaN\n",
      "24 2024-07-02   8051     4         64040          NaN            NaN       NaN\n",
      "25 2024-07-03   8659     4         64040          NaN            NaN       NaN\n",
      "26 2024-07-04  12646     4         64040          3.0            3.0       5.0\n",
      "27 2024-07-05   7947     5         56696          NaN            NaN       NaN\n",
      "28 2024-07-06   4552     5         56696          NaN            NaN       NaN\n",
      "29 2024-07-07   2105     5         56696          NaN            NaN       NaN\n",
      "30 2024-07-08   9542     5         56696          NaN            NaN       NaN\n",
      "31 2024-07-09  15188     5         56696          NaN            NaN       NaN\n",
      "32 2024-07-10   8000     5         56696          NaN            NaN       NaN\n",
      "33 2024-07-11   9362     5         56696          1.0            1.0       3.0\n"
     ]
    }
   ],
   "source": [
    "\n",
    "# Loading the CSV file\n",
    "football_performance = pd.read_csv('Football performance.csv')\n",
    "\n",
    "# I need to raname the column to match the existing dataframe column\n",
    "football_performance.rename(columns={'Football Date': 'date'}, inplace=True)\n",
    "\n",
    "# Convert the 'date' column to datetime to ensure it matches the 'date' format in df_steps\n",
    "football_performance['date'] = pd.to_datetime(football_performance['date'])\n",
    "\n",
    "# Merging both column by the date column\n",
    "df = pd.merge(df_steps, football_performance, on='date', how='left')\n",
    "\n",
    "# Display the merged DataFrame\n",
    "print(df)\n"
   ]
  },
  {
   "cell_type": "markdown",
   "metadata": {},
   "source": [
    "### I will need to replace the NaN values with 0, in order to facilitate any further visualization.\n",
    "### I will also create a new column to be more clear to compare days that I played football to days that I didn't play."
   ]
  },
  {
   "cell_type": "code",
   "execution_count": 93,
   "metadata": {},
   "outputs": [
    {
     "name": "stdout",
     "output_type": "stream",
     "text": [
      "         date  steps  week  weekly_steps  Goal Scored  Goal Assisted  \\\n",
      "0  2024-06-08   3615     1         66625          0.0            0.0   \n",
      "1  2024-06-09   2491     1         66625          0.0            0.0   \n",
      "2  2024-06-10  18051     1         66625          0.0            0.0   \n",
      "3  2024-06-11  13049     1         66625          0.0            0.0   \n",
      "4  2024-06-12  16118     1         66625          0.0            0.0   \n",
      "5  2024-06-13  13301     1         66625          4.0            1.0   \n",
      "6  2024-06-14  16142     2         76482          0.0            0.0   \n",
      "7  2024-06-15   1950     2         76482          0.0            0.0   \n",
      "8  2024-06-16   8883     2         76482          0.0            0.0   \n",
      "9  2024-06-17  18681     2         76482          0.0            0.0   \n",
      "10 2024-06-18   9249     2         76482          0.0            0.0   \n",
      "11 2024-06-19   9895     2         76482          0.0            0.0   \n",
      "12 2024-06-20  11682     2         76482          5.0            1.0   \n",
      "13 2024-06-21   2262     3         66996          0.0            0.0   \n",
      "14 2024-06-22   2939     3         66996          0.0            0.0   \n",
      "15 2024-06-23   9574     3         66996          0.0            0.0   \n",
      "16 2024-06-24  16989     3         66996          0.0            0.0   \n",
      "17 2024-06-25   9963     3         66996          0.0            0.0   \n",
      "18 2024-06-26   9079     3         66996          0.0            0.0   \n",
      "19 2024-06-27  16190     3         66996          3.0            4.0   \n",
      "20 2024-06-28  13895     4         64040          0.0            0.0   \n",
      "21 2024-06-29   2641     4         64040          0.0            0.0   \n",
      "22 2024-06-30   9679     4         64040          0.0            0.0   \n",
      "23 2024-07-01   8469     4         64040          0.0            0.0   \n",
      "24 2024-07-02   8051     4         64040          0.0            0.0   \n",
      "25 2024-07-03   8659     4         64040          0.0            0.0   \n",
      "26 2024-07-04  12646     4         64040          3.0            3.0   \n",
      "27 2024-07-05   7947     5         56696          0.0            0.0   \n",
      "28 2024-07-06   4552     5         56696          0.0            0.0   \n",
      "29 2024-07-07   2105     5         56696          0.0            0.0   \n",
      "30 2024-07-08   9542     5         56696          0.0            0.0   \n",
      "31 2024-07-09  15188     5         56696          0.0            0.0   \n",
      "32 2024-07-10   8000     5         56696          0.0            0.0   \n",
      "33 2024-07-11   9362     5         56696          1.0            1.0   \n",
      "\n",
      "    Team Win  football_day  \n",
      "0        0.0         False  \n",
      "1        0.0         False  \n",
      "2        0.0         False  \n",
      "3        0.0         False  \n",
      "4        0.0         False  \n",
      "5        4.0          True  \n",
      "6        0.0         False  \n",
      "7        0.0         False  \n",
      "8        0.0         False  \n",
      "9        0.0         False  \n",
      "10       0.0         False  \n",
      "11       0.0         False  \n",
      "12       7.0          True  \n",
      "13       0.0         False  \n",
      "14       0.0         False  \n",
      "15       0.0         False  \n",
      "16       0.0         False  \n",
      "17       0.0         False  \n",
      "18       0.0         False  \n",
      "19       5.0          True  \n",
      "20       0.0         False  \n",
      "21       0.0         False  \n",
      "22       0.0         False  \n",
      "23       0.0         False  \n",
      "24       0.0         False  \n",
      "25       0.0         False  \n",
      "26       5.0          True  \n",
      "27       0.0         False  \n",
      "28       0.0         False  \n",
      "29       0.0         False  \n",
      "30       0.0         False  \n",
      "31       0.0         False  \n",
      "32       0.0         False  \n",
      "33       3.0          True  \n"
     ]
    }
   ],
   "source": [
    "# Fill NaN values with zeros\n",
    "df.fillna(0, inplace=True)\n",
    "\n",
    "# Create a new column to indicate football days\n",
    "df['football_day'] = df['Goal Scored'] > 0\n",
    "\n",
    "print(df)"
   ]
  },
  {
   "cell_type": "markdown",
   "metadata": {},
   "source": [
    "## Let's explore this dataframe, questions I want to answer:\n",
    "## Correlation Analysis:\n",
    "### 1 - Is there a relationship between the weekly steps total and the week's football performance? If so, how strong it is?\n",
    "### 2 - Is there a relationship between the total steps on the football day and the football performance? If so, how strong it is?\n",
    "### 3 - which of them has a stronger correlation to my football performance? Is it the total steps on football days or the total steps per week? \n",
    "## Visualization:\n",
    "### 1 - Scatter Plots: Use scatter plots to visualize relationships between steps and football performance metrics."
   ]
  },
  {
   "cell_type": "code",
   "execution_count": 94,
   "metadata": {},
   "outputs": [
    {
     "name": "stdout",
     "output_type": "stream",
     "text": [
      "   week  weekly_steps  Goal Scored  Goal Assisted  Team Win\n",
      "0     1         66625          4.0            1.0       4.0\n",
      "1     2         76482          5.0            1.0       7.0\n",
      "2     3         66996          3.0            4.0       5.0\n",
      "3     4         64040          3.0            3.0       5.0\n",
      "4     5         56696          1.0            1.0       3.0\n"
     ]
    }
   ],
   "source": [
    "## Correlation Analysis:\n",
    "### 1 - Is there a relationship between the weekly steps total and the week's football performance?\n",
    "\n",
    "# Grouping the data weekly\n",
    "weekly_performance = df.groupby('week').agg({\n",
    "    'weekly_steps': 'first',\n",
    "    'Goal Scored': 'sum',\n",
    "    'Goal Assisted': 'sum',\n",
    "    'Team Win': 'sum'\n",
    "}).reset_index()\n",
    "\n",
    "print(weekly_performance)"
   ]
  },
  {
   "cell_type": "code",
   "execution_count": 95,
   "metadata": {},
   "outputs": [
    {
     "name": "stdout",
     "output_type": "stream",
     "text": [
      "                   week  weekly_steps  Goal Scored  Goal Assisted  Team Win\n",
      "week           1.000000     -0.719521    -0.852803       0.223607 -0.426401\n",
      "weekly_steps  -0.719521      1.000000     0.950553      -0.044108  0.928839\n",
      "Goal Scored   -0.852803      0.950553     1.000000      -0.119183  0.818182\n",
      "Goal Assisted  0.223607     -0.044108    -0.119183       1.000000  0.119183\n",
      "Team Win      -0.426401      0.928839     0.818182       0.119183  1.000000\n"
     ]
    }
   ],
   "source": [
    "# Calculate the correlation coefficients\n",
    "weekly_performance_corr = weekly_performance.corr()\n",
    "\n",
    "print(weekly_performance_corr)"
   ]
  },
  {
   "cell_type": "markdown",
   "metadata": {},
   "source": [
    "## notes:\n",
    "* A correlation coefficient close to 1 implies a strong positive relationship.\n",
    "* A correlation coefficient close to -1 implies a strong negative relationship.\n",
    "* A correlation coefficient around 0 implies no relationship."
   ]
  },
  {
   "cell_type": "markdown",
   "metadata": {},
   "source": [
    "## Weekly Steps and Goals Scored (0.95):\n",
    "* This number is very close to 1, which means there's a strong positive relationship. When the friends walk more steps in a week, they tend to score more goals in football.\n",
    "\n",
    "## Weekly Steps and Goals Assisted (-0.04):\n",
    "* This number is very close to 0, which means there's almost no relationship. Walking more or fewer steps doesn't seem to affect how many goals they help others score (assists).\n",
    "\n",
    "## Weekly Steps and Team Wins (0.93):\n",
    "* This number is also close to 1, meaning there's a strong positive relationship. When the friends walk more steps in a week, their team tends to win more often.\n"
   ]
  },
  {
   "cell_type": "code",
   "execution_count": 96,
   "metadata": {},
   "outputs": [
    {
     "data": {
      "image/png": "[encoded data removed]",
      "text/plain": [
       "<Figure size 250x750 with 3 Axes>"
      ]
     },
     "metadata": {},
     "output_type": "display_data"
    }
   ],
   "source": [
    "\n",
    "# Scatter plots\n",
    "sns.pairplot(weekly_performance, x_vars=['weekly_steps'], y_vars=['Goal Scored', 'Goal Assisted', 'Team Win'], kind='reg')\n",
    "plt.show()\n"
   ]
  },
  {
   "cell_type": "markdown",
   "metadata": {},
   "source": [
    "## Summary:\n",
    "* ## When I walk more steps in a week, I score more goals and my team wins more games.\n",
    "* ## Walking more steps doesn't really change how many goals I assist."
   ]
  },
  {
   "cell_type": "markdown",
   "metadata": {},
   "source": [
    "# 2 - Is there a relationship between the total steps on the football day and the football performance?"
   ]
  },
  {
   "cell_type": "code",
   "execution_count": 97,
   "metadata": {},
   "outputs": [
    {
     "name": "stdout",
     "output_type": "stream",
     "text": [
      "         date  steps  week  weekly_steps  Goal Scored  Goal Assisted  \\\n",
      "29 2024-07-07   2105     5         56696          0.0            0.0   \n",
      "30 2024-07-08   9542     5         56696          0.0            0.0   \n",
      "31 2024-07-09  15188     5         56696          0.0            0.0   \n",
      "32 2024-07-10   8000     5         56696          0.0            0.0   \n",
      "33 2024-07-11   9362     5         56696          1.0            1.0   \n",
      "\n",
      "    Team Win  football_day  \n",
      "29       0.0         False  \n",
      "30       0.0         False  \n",
      "31       0.0         False  \n",
      "32       0.0         False  \n",
      "33       3.0          True  \n"
     ]
    }
   ],
   "source": [
    "print(df.tail())"
   ]
  },
  {
   "cell_type": "markdown",
   "metadata": {},
   "source": [
    "### I will use the column football_day to filter the dataframe based on the football_day = True, then I will check the correlation coefficients between steps on football days and the football performance metrics (Goal Scored, Goal Assisted, Team Win)."
   ]
  },
  {
   "cell_type": "code",
   "execution_count": 98,
   "metadata": {},
   "outputs": [
    {
     "name": "stdout",
     "output_type": "stream",
     "text": [
      "                  steps  Goal Scored  Goal Assisted  Team Win\n",
      "steps          1.000000     0.359797       0.759796  0.269617\n",
      "Goal Scored    0.359797     1.000000      -0.119183  0.818182\n",
      "Goal Assisted  0.759796    -0.119183       1.000000  0.119183\n",
      "Team Win       0.269617     0.818182       0.119183  1.000000\n"
     ]
    }
   ],
   "source": [
    "football_days_df = df[df['football_day'] == True]\n",
    "\n",
    "\n",
    "football_day_corr = football_days_df[['steps', 'Goal Scored', 'Goal Assisted', 'Team Win']].corr()\n",
    "\n",
    "print(football_day_corr)"
   ]
  },
  {
   "cell_type": "code",
   "execution_count": 99,
   "metadata": {},
   "outputs": [
    {
     "data": {
      "image/png": "[encoded data removed]",
      "text/plain": [
       "<Figure size 250x750 with 3 Axes>"
      ]
     },
     "metadata": {},
     "output_type": "display_data"
    }
   ],
   "source": [
    "football_days_data = df[df['football_day']]\n",
    "\n",
    "sns.pairplot(football_days_data, x_vars=['steps'], y_vars=['Goal Scored', 'Goal Assisted', 'Team Win'], kind='reg')\n",
    "plt.show()\n",
    "\n"
   ]
  },
  {
   "cell_type": "markdown",
   "metadata": {},
   "source": [
    "## Summary:\n",
    "\n",
    "* There is a strong positive relationship between the total steps on football days and the number of assists made during football games.\n",
    "* There is a moderate positive relationship between the total steps on football days and the number of goals scored.\n",
    "* There is a weak positive relationship between the total steps on football days and the number of team wins."
   ]
  },
  {
   "cell_type": "markdown",
   "metadata": {},
   "source": [
    "# 3 - which of them has a stronger correlation to my football performance? Is it the total steps on football days or the total steps per week? \n"
   ]
  },
  {
   "cell_type": "code",
   "execution_count": 100,
   "metadata": {},
   "outputs": [
    {
     "name": "stdout",
     "output_type": "stream",
     "text": [
      "                  steps  Goal Scored  Goal Assisted  Team Win\n",
      "steps          1.000000     0.359797       0.759796  0.269617\n",
      "Goal Scored    0.359797     1.000000      -0.119183  0.818182\n",
      "Goal Assisted  0.759796    -0.119183       1.000000  0.119183\n",
      "Team Win       0.269617     0.818182       0.119183  1.000000\n",
      "                   week  weekly_steps  Goal Scored  Goal Assisted  Team Win\n",
      "week           1.000000     -0.719521    -0.852803       0.223607 -0.426401\n",
      "weekly_steps  -0.719521      1.000000     0.950553      -0.044108  0.928839\n",
      "Goal Scored   -0.852803      0.950553     1.000000      -0.119183  0.818182\n",
      "Goal Assisted  0.223607     -0.044108    -0.119183       1.000000  0.119183\n",
      "Team Win      -0.426401      0.928839     0.818182       0.119183  1.000000\n"
     ]
    }
   ],
   "source": [
    "print(football_day_corr)\n",
    "print(weekly_performance_corr)\n"
   ]
  },
  {
   "cell_type": "markdown",
   "metadata": {},
   "source": [
    "\n",
    "* Both football days and weekly steps show similar correlations with Goal Scored and Team Win. The correlation coefficients are identical for Goal Scored and Team Win, suggesting no significant difference in correlation strength between the two analyses.\n",
    "\n",
    "* For Goal Assisted, the correlation coefficient from football days (-0.044108) indicates a weaker relationship compared to the weekly performance analysis. Therefore, weekly steps might have a slightly stronger correlation with Goal Assisted compared to football days.\n"
   ]
  },
  {
   "cell_type": "markdown",
   "metadata": {},
   "source": [
    "# ANSWERING THE QUESTIONS:\n",
    "\n",
    "## 1 - Is there a relationship between the weekly steps total and the week's football performance? If so, how strong it is?\n",
    "### There is a relationship between the weekly steps total and the week's football performance. The correlation coefficients are as follows:\n",
    "\n",
    "* Goal Scored: Positive correlation of approximately 0.951.\n",
    "* Goal Assisted: Weak negative correlation of approximately -0.044.\n",
    "* Team Win: Positive correlation of approximately 0.929.\n",
    "### These coefficients suggest a strong positive relationship between weekly steps and Goal Scored and Team Win, indicating that higher weekly step totals generally coincide with more goals scored and more team wins.\n",
    "\n",
    "\n",
    "## 2 - Is there a relationship between the total steps on the football day and the football performance? If so, how strong it is?\n",
    "### There is a relationship between the total steps on the football day and football performance metrics. The correlation coefficients are:\n",
    "* Goal Scored: Positive correlation of approximately 0.360.\n",
    "* Goal Assisted: Positive correlation of approximately 0.760.\n",
    "* Team Win: Positive correlation of approximately 0.270.\n",
    "### These coefficients indicate a moderate to strong positive relationship between steps on football days and football performance metrics, suggesting that higher steps on football days tend to coincide with more goals scored, more assists, and more team wins.\n",
    "\n",
    "\n",
    "## 3 - Which of them has a stronger correlation to my football performance? Is it the total steps on football days or the total steps per week?\n",
    "* Goal Scored: The correlation coefficient with weekly steps (0.951) is higher than with steps on football days (0.360).\n",
    "* Goal Assisted: The correlation coefficient with steps on football days (0.760) is higher than with weekly steps (-0.044).\n",
    "* Team Win: The correlation coefficient with weekly steps (0.929) is higher than with steps on football days (0.270).\n",
    "\n",
    "## Overall, for Goal Scored and Team Win, the total steps per week (weekly_steps) shows a stronger correlation with football performance. However, for Goal Assisted, the total steps on football days exhibit a stronger correlation."
   ]
  }
 ],
 "metadata": {
  "kernelspec": {
   "display_name": "Python 3",
   "language": "python",
   "name": "python3"
  },
  "language_info": {
   "codemirror_mode": {
    "name": "ipython",
    "version": 3
   },
   "file_extension": ".py",
   "mimetype": "text/x-python",
   "name": "python",
   "nbconvert_exporter": "python",
   "pygments_lexer": "ipython3",
   "version": "3.10.12"
  }
 },
 "nbformat": 4,
 "nbformat_minor": 2
}
