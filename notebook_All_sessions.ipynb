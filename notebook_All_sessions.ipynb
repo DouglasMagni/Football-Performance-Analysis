{
 "cells": [
  {
   "cell_type": "code",
   "execution_count": 11,
   "metadata": {},
   "outputs": [
    {
     "name": "stdout",
     "output_type": "stream",
     "text": [
      "   Fitness Activity                Start Time                  End Time  \\\n",
      "0      calisthenics  2024-05-01T00:17:18.408Z  2024-05-01T00:27:53.242Z   \n",
      "1      calisthenics  2024-05-09T00:19:08.139Z  2024-05-09T00:36:23.880Z   \n",
      "2           walking  2024-06-27T03:10:16.123Z  2024-06-27T03:40:16.123Z   \n",
      "3      calisthenics  2024-05-28T19:45:50.496Z  2024-05-28T19:46:13.262Z   \n",
      "4      calisthenics  2024-02-23T23:29:21.233Z  2024-02-23T23:46:47.822Z   \n",
      "..              ...                       ...                       ...   \n",
      "65          walking  2024-06-29T03:09:43.073Z  2024-06-29T03:39:43.073Z   \n",
      "66          walking  2024-06-08T03:16:12.984Z  2024-06-08T03:46:12.984Z   \n",
      "67     calisthenics  2024-02-05T03:09:50.994Z  2024-02-05T03:19:37.572Z   \n",
      "68     calisthenics  2024-01-16T22:56:36.023Z  2024-01-16T23:07:06.286Z   \n",
      "69          walking  2024-06-24T03:10:51.643Z  2024-06-24T03:40:51.643Z   \n",
      "\n",
      "     Duration                 Date  \n",
      "0    634.834s  2024-05-01T12_17_18  \n",
      "1   1035.741s  2024-05-09T12_19_08  \n",
      "2       1800s  2024-06-27T15_10_16  \n",
      "3     22.766s  2024-05-29T07_45_50  \n",
      "4   1046.589s  2024-02-24T12_29_21  \n",
      "..        ...                  ...  \n",
      "65      1800s  2024-06-29T15_09_43  \n",
      "66      1800s  2024-06-08T15_16_12  \n",
      "67   586.578s  2024-02-05T16_09_50  \n",
      "68   630.263s  2024-01-17T11_56_36  \n",
      "69      1800s  2024-06-24T15_10_51  \n",
      "\n",
      "[70 rows x 5 columns]\n"
     ]
    }
   ],
   "source": [
    "import os\n",
    "import json\n",
    "import pandas as pd\n",
    "\n",
    "# Function to extract data from Fit JSON files\n",
    "def extract_fit_data(file_path):\n",
    "    with open(file_path, 'r') as f:\n",
    "        data = json.load(f)\n",
    "\n",
    "    # Extracting relevant information\n",
    "    fitness_activity = data['fitnessActivity']\n",
    "    start_time = data['startTime']\n",
    "    end_time = data['endTime']\n",
    "    duration = data['duration']\n",
    "\n",
    "    return {\n",
    "        'Fitness Activity': fitness_activity,\n",
    "        'Start Time': start_time,\n",
    "        'End Time': end_time,\n",
    "        'Duration': duration\n",
    "    }\n",
    "\n",
    "# Initialize an empty list to store data frames\n",
    "data_frames = []\n",
    "\n",
    "# Directory containing Fit JSON files\n",
    "fit_dir = './Fit/All sessions/'\n",
    "\n",
    "# Iterate through each file in the directory\n",
    "for filename in os.listdir(fit_dir):\n",
    "    if filename.endswith('.json'):\n",
    "        file_path = os.path.join(fit_dir, filename)\n",
    "        data_point = extract_fit_data(file_path)\n",
    "\n",
    "        # Assuming you also want to capture the date from filename or another source\n",
    "        # Update this part based on your actual data extraction logic\n",
    "        date = filename.split('.')[0]  # Example: Extract date from filename\n",
    "\n",
    "        data_point['Date'] = date\n",
    "        data_frames.append(pd.DataFrame([data_point]))\n",
    "\n",
    "# Concatenate all data frames into a single DataFrame\n",
    "fit_data = pd.concat(data_frames, ignore_index=True)\n",
    "\n",
    "# Display the extracted data\n",
    "print(fit_data)\n",
    "\n"
   ]
  }
 ],
 "metadata": {
  "kernelspec": {
   "display_name": "Python 3",
   "language": "python",
   "name": "python3"
  },
  "language_info": {
   "codemirror_mode": {
    "name": "ipython",
    "version": 3
   },
   "file_extension": ".py",
   "mimetype": "text/x-python",
   "name": "python",
   "nbconvert_exporter": "python",
   "pygments_lexer": "ipython3",
   "version": "3.10.12"
  }
 },
 "nbformat": 4,
 "nbformat_minor": 2
}
